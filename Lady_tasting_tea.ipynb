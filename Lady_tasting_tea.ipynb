{
  "nbformat": 4,
  "nbformat_minor": 0,
  "metadata": {
    "colab": {
      "name": "Lady tasting tea.ipynb",
      "provenance": [],
      "collapsed_sections": [],
      "authorship_tag": "ABX9TyMvQIU4EOKahmY7Igk00IQT",
      "include_colab_link": true
    },
    "kernelspec": {
      "name": "python3",
      "display_name": "Python 3"
    },
    "language_info": {
      "name": "python"
    }
  },
  "cells": [
    {
      "cell_type": "markdown",
      "metadata": {
        "id": "view-in-github",
        "colab_type": "text"
      },
      "source": [
        "<a href=\"https://colab.research.google.com/github/jennyked/Lady-Tasting-tea/blob/main/Lady_tasting_tea.ipynb\" target=\"_parent\"><img src=\"https://colab.research.google.com/assets/colab-badge.svg\" alt=\"Open In Colab\"/></a>"
      ]
    },
    {
      "cell_type": "markdown",
      "source": [
        "## **The Lady Tasting Tea **\n",
        "The lady tasting tea is a randomized experiment devised by Ronald Fisher and reported in his book The Design of Experiments (1935). The experiment is the original exposition of Fisher's notion of a null hypothesis, which is \"never proved or established, but is possibly disproved, in the course of experimentation\".\n",
        "\n",
        "\n",
        "\n",
        "\n"
      ],
      "metadata": {
        "id": "CxGT7t2jEa6h"
      }
    },
    {
      "cell_type": "markdown",
      "source": [
        "# **Experimental Design**\n",
        "\n",
        "The experiment provides a subject with 8 randomly ordered cups of tea – 4 prepared by first pouring the tea, then adding milk, 4 prepared by first pouring the milk, then adding the tea. The subject has to select 4 cups prepared by one method. Judging cups by direct comparison is allowed. The method employed in the experiment is fully disclosed to the subject. \n",
        "\n",
        "The aim is to calculate the number of cups that the woman can guess correctly only by chance, by using the cup in which 4 milk is poured first and 4 tea is poured first, and to make an inference on the accuracy of the claim. The task of the woman is to divide the cups into two groups according to the order in which the tea and milk are poured. For this, she must correctly classify and select 4 cups from the same group."
      ],
      "metadata": {
        "id": "O9auZ0ocR3Cm"
      }
    },
    {
      "cell_type": "code",
      "source": [
        "\n",
        "#Define cups\n",
        "cups =list(range(8))\n",
        "cups"
      ],
      "metadata": {
        "colab": {
          "base_uri": "https://localhost:8080/"
        },
        "id": "Ii-Zj2mbVC5j",
        "outputId": "3fe7a416-75c4-4b6d-eeed-b2338342832f"
      },
      "execution_count": null,
      "outputs": [
        {
          "output_type": "execute_result",
          "data": {
            "text/plain": [
              "[0, 1, 2, 3, 4, 5, 6, 7]"
            ]
          },
          "metadata": {},
          "execution_count": 1
        }
      ]
    },
    {
      "cell_type": "code",
      "source": [
        "# Number of options to select 4 out of 8 cups:\n",
        "\n",
        "pnum = (8*7*6*5*4*3*2*1)/((4*3*2*1)*(4*3*2*1))\n",
        "print(pnum)"
      ],
      "metadata": {
        "colab": {
          "base_uri": "https://localhost:8080/"
        },
        "id": "-KFyXhwdVRwn",
        "outputId": "71be5741-d873-4bf7-cd89-62b716c6bbb7"
      },
      "execution_count": null,
      "outputs": [
        {
          "output_type": "stream",
          "name": "stdout",
          "text": [
            "70.0\n"
          ]
        }
      ]
    },
    {
      "cell_type": "markdown",
      "source": [
        "A combinatorial approach was taken to enlist all the outcomes, which in this case is 70. \n",
        "\n",
        "1)There is only one possibility among 70 to get all of them right. \n",
        "\n",
        "2)There are 16 ways to choose 3 correct and 1 incorrect cup, similarly, 16 ways to choose 1 correct and 3 incorrect cups\n",
        "\n",
        "3)There are 36 ways to choose 2 correct and 2 wrong cups.\n",
        "\n",
        "4)There is one possibility among 70 to get all of them wrong. \n",
        "\n",
        "\n",
        "\n",
        "\n",
        "\n"
      ],
      "metadata": {
        "id": "BUxtC1XUd3Z3"
      }
    },
    {
      "cell_type": "code",
      "source": [
        "#Approach for 4 choose 4\n",
        "try: \n",
        "    from scipy.special import comb, logsumexp\n",
        "except ImportError:\n",
        "    from scipy.misc import comb, logsumexp\n",
        "comb(4,4)"
      ],
      "metadata": {
        "colab": {
          "base_uri": "https://localhost:8080/"
        },
        "id": "6xCdTnC5p6at",
        "outputId": "7f7f0e06-77dc-4a13-edce-a3705d66f01f"
      },
      "execution_count": null,
      "outputs": [
        {
          "output_type": "execute_result",
          "data": {
            "text/plain": [
              "1.0"
            ]
          },
          "metadata": {},
          "execution_count": 3
        }
      ]
    },
    {
      "cell_type": "code",
      "source": [
        "#The probability to select correctly 4 cups:\n",
        "prob = (1/70) \n",
        "print(f\"The probability to select correctly 4 out of 8 cups = {prob}\")"
      ],
      "metadata": {
        "colab": {
          "base_uri": "https://localhost:8080/"
        },
        "id": "MPUddFtJVj4J",
        "outputId": "ea2bb03a-02d1-4c7a-96d2-992e65ece019"
      },
      "execution_count": null,
      "outputs": [
        {
          "output_type": "stream",
          "name": "stdout",
          "text": [
            "The probability to select correctly 4 out of 8 cups = 0.014285714285714285\n"
          ]
        }
      ]
    },
    {
      "cell_type": "code",
      "source": [
        ""
      ],
      "metadata": {
        "id": "v6t2cU4nyVAB"
      },
      "execution_count": null,
      "outputs": []
    },
    {
      "cell_type": "code",
      "source": [
        "#Approach for 4 choose 3 correctly\n",
        "try: \n",
        "    from scipy.special import comb, logsumexp\n",
        "except ImportError:\n",
        "    from scipy.misc import comb, logsumexp\n",
        "comb(4,3)"
      ],
      "metadata": {
        "colab": {
          "base_uri": "https://localhost:8080/"
        },
        "id": "mucmWHonqZBf",
        "outputId": "86fee212-ea8f-4006-c73b-4173c1a788af"
      },
      "execution_count": null,
      "outputs": [
        {
          "output_type": "execute_result",
          "data": {
            "text/plain": [
              "4.0"
            ]
          },
          "metadata": {},
          "execution_count": 5
        }
      ]
    },
    {
      "cell_type": "code",
      "source": [
        "#Approach for 4 choose 1 wrong cup \n",
        "try: \n",
        "    from scipy.special import comb, logsumexp\n",
        "except ImportError:\n",
        "    from scipy.misc import comb, logsumexp\n",
        "comb(4,1)"
      ],
      "metadata": {
        "colab": {
          "base_uri": "https://localhost:8080/"
        },
        "id": "LAMcVvj7uQDv",
        "outputId": "94b5fcbb-9346-4cdc-e2cf-7360d88048a8"
      },
      "execution_count": null,
      "outputs": [
        {
          "output_type": "execute_result",
          "data": {
            "text/plain": [
              "4.0"
            ]
          },
          "metadata": {},
          "execution_count": 6
        }
      ]
    },
    {
      "cell_type": "code",
      "source": [
        "#The probability to select correctly 3 correct cups and 1 wrong cup:\n",
        "prob16 = (16/70) \n",
        "print(f\"The probability to select correctly 3 correct and 1 wrong cup = {prob16}\")"
      ],
      "metadata": {
        "colab": {
          "base_uri": "https://localhost:8080/"
        },
        "id": "mxdXPkWVdLwe",
        "outputId": "3f23070b-9b66-4eea-cda9-efda7ac74670"
      },
      "execution_count": null,
      "outputs": [
        {
          "output_type": "stream",
          "name": "stdout",
          "text": [
            "The probability to select correctly 3 correct and 1 wrong cup = 0.22857142857142856\n"
          ]
        }
      ]
    },
    {
      "cell_type": "code",
      "source": [
        ""
      ],
      "metadata": {
        "id": "M-VxaM1ZyXmW"
      },
      "execution_count": null,
      "outputs": []
    },
    {
      "cell_type": "code",
      "source": [
        "#The probability to select correctly 2 correct cups and 2 wrong cups:\n",
        "\n",
        "try: \n",
        "    from scipy.special import comb, logsumexp\n",
        "except ImportError:\n",
        "    from scipy.misc import comb, logsumexp\n",
        "comb(4,2)"
      ],
      "metadata": {
        "colab": {
          "base_uri": "https://localhost:8080/"
        },
        "id": "p1myzQWStiEn",
        "outputId": "ce75cd23-201b-4f6c-ea86-dc70575dbad1"
      },
      "execution_count": null,
      "outputs": [
        {
          "output_type": "execute_result",
          "data": {
            "text/plain": [
              "6.0"
            ]
          },
          "metadata": {},
          "execution_count": 8
        }
      ]
    },
    {
      "cell_type": "code",
      "source": [
        "#The probability to select correctly 2 correct cups and 2 wrong cups:\n",
        "\n",
        "prob36 = (36/70) \n",
        "print(f\"The probability to select correctly 2 correct and 2 wrong cups = {prob36}\")"
      ],
      "metadata": {
        "colab": {
          "base_uri": "https://localhost:8080/"
        },
        "id": "ZBJ2Du0NdLzs",
        "outputId": "90de66cc-8569-426d-ea87-0f7a96dc6484"
      },
      "execution_count": null,
      "outputs": [
        {
          "output_type": "stream",
          "name": "stdout",
          "text": [
            "The probability to select correctly 2 correct and 2 wrong cups = 0.5142857142857142\n"
          ]
        }
      ]
    },
    {
      "cell_type": "code",
      "source": [
        ""
      ],
      "metadata": {
        "id": "raF8JkulyZ4Q"
      },
      "execution_count": null,
      "outputs": []
    },
    {
      "cell_type": "code",
      "source": [
        "#The probability to select correctly 1 correct cup and 3 wrong cups:\n",
        "prob161 = (16/70) \n",
        "print(f\"The probability to select correctly 1 correct and 3 wrong cups = {prob161}\")"
      ],
      "metadata": {
        "colab": {
          "base_uri": "https://localhost:8080/"
        },
        "id": "J_QkjF1Xk4fQ",
        "outputId": "4d9ef27e-2e95-4b52-fc50-e1452b9a038d"
      },
      "execution_count": null,
      "outputs": [
        {
          "output_type": "stream",
          "name": "stdout",
          "text": [
            "The probability to select correctly 1 correct and 3 wrong cups = 0.22857142857142856\n"
          ]
        }
      ]
    },
    {
      "cell_type": "code",
      "source": [
        ""
      ],
      "metadata": {
        "id": "LR2gn5AKydhF"
      },
      "execution_count": null,
      "outputs": []
    },
    {
      "cell_type": "code",
      "source": [
        "#The probability to select correctly 4 out of 8 cups:\n",
        "prob1 = (1/70) \n",
        "print(f\"The probability to select wrongly 4 out of 8 cups = {prob1}\")"
      ],
      "metadata": {
        "colab": {
          "base_uri": "https://localhost:8080/"
        },
        "id": "hnMmn-4RdL45",
        "outputId": "b96fe5b3-d343-4d6a-e739-3549e998daf9"
      },
      "execution_count": null,
      "outputs": [
        {
          "output_type": "stream",
          "name": "stdout",
          "text": [
            "The probability to select wrongly 4 out of 8 cups = 0.014285714285714285\n"
          ]
        }
      ]
    },
    {
      "cell_type": "code",
      "source": [
        "import matplotlib.pyplot as plt\n"
      ],
      "metadata": {
        "id": "tJy1W5rUdL77"
      },
      "execution_count": null,
      "outputs": []
    },
    {
      "cell_type": "code",
      "source": [
        "\n",
        "# x axis values is the number of cups correctly chosen\n",
        "x = [4,3,2,1,0]\n",
        "# corresponding y axis values is the probability\n",
        "y = [0.014,0.23,0.51,0.23, 0.014]\n",
        " \n",
        "# plotting the points\n",
        "plt.bar(x, y)\n",
        " \n",
        "# naming the x axis\n",
        "plt.xlabel('Number of correct cups')\n",
        "# naming the y axis\n",
        "plt.ylabel('Probability')\n",
        " \n",
        "# giving a title to my graph\n",
        "plt.title('Lady Tasting Tea Distribution')\n",
        " \n",
        "# function to show the plot\n",
        "plt.show()"
      ],
      "metadata": {
        "colab": {
          "base_uri": "https://localhost:8080/",
          "height": 295
        },
        "id": "OTT_qaKldL-5",
        "outputId": "5cec96f6-cc6e-4792-cffe-92fed5f6741e"
      },
      "execution_count": null,
      "outputs": [
        {
          "output_type": "display_data",
          "data": {
            "text/plain": [
              "<Figure size 432x288 with 1 Axes>"
            ],
            "image/png": "[encoded data removed]"
          },
          "metadata": {
            "needs_background": "light"
          }
        }
      ]
    },
    {
      "cell_type": "markdown",
      "source": [
        "## Conclusion\n",
        "The null hypothesis is that the woman does not have such a talent and an inference can be made by reasoning over the p-value in the statistics in the experiment. For this reason, it is necessary to assume that the woman does not have such a talent and to calculate the ratio of possible successes to all probabilities, which may occur in a completely random way.\n",
        "\n",
        "\n",
        "It can be said that the p-value determines whether the result is statistically significant. If the result obtained is less than 0.05 (5%), the null hypothesis is rejected, that is, the result found is interpreted as statistically significant.\n",
        "\n",
        "The case of all cups are placed correctly that is, 0.014, is statistically significant (because of 0.014 < 0.05). This means that the null hypothesis is rejected and the woman indeed does have talent to choose. Although seen from the analysis above the probability(1/70) is extremely rare.\n",
        "\n",
        "On the other hand, the case of at least 3 of 4 cups are placed correctly, that is, 0.243, is not statistically significant based on the p-value ( because of 0.243>0.05), it is considered statistically insignificant if the woman predicts 3 out of 4 glasses. This means that a single mistake made by the woman will reduce her performance below the level of significance. In such a case, the experiment is either repeated or the elements are expanded."
      ],
      "metadata": {
        "id": "cgdbFglgnuzn"
      }
    },
    {
      "cell_type": "markdown",
      "source": [
        "From the Ronald Fisher lady tasting tea, to be able to blind-taste tea, a larger sample size is needed. In the Lady Tasting Tea test, the probability to blindly taste tea was quite limited as the sample size of 8 cups wasnt sufficient. To differentiate between the milk and tea cups, a statistical significance is seen from ten sample size and above. "
      ],
      "metadata": {
        "id": "M1Nep1vK-oZV"
      }
    },
    {
      "cell_type": "code",
      "source": [
        ""
      ],
      "metadata": {
        "id": "TMuU4mZ5VB7P"
      },
      "execution_count": null,
      "outputs": []
    },
    {
      "cell_type": "markdown",
      "source": [
        ""
      ],
      "metadata": {
        "id": "zVCIs_OSIh-X"
      }
    }
  ]
}